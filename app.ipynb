{
  "nbformat": 4,
  "nbformat_minor": 0,
  "metadata": {
    "colab": {
      "provenance": [],
      "authorship_tag": "ABX9TyOZITnF//a0w/+H4ouynui3",
      "include_colab_link": true
    },
    "kernelspec": {
      "name": "python3",
      "display_name": "Python 3"
    },
    "language_info": {
      "name": "python"
    }
  },
  "cells": [
    {
      "cell_type": "markdown",
      "metadata": {
        "id": "view-in-github",
        "colab_type": "text"
      },
      "source": [
        "<a href=\"https://colab.research.google.com/github/Ashujain263648/movie-recommendation-system/blob/main/app.ipynb\" target=\"_parent\"><img src=\"https://colab.research.google.com/assets/colab-badge.svg\" alt=\"Open In Colab\"/></a>"
      ]
    },
    {
      "cell_type": "code",
      "source": [
        "import subprocess\n",
        "\n",
        "# Run pip install using subprocess\n",
        "subprocess.run([\"pip\", \"install\", \"streamlit\", \"pyngrok\"])\n",
        "\n"
      ],
      "metadata": {
        "colab": {
          "base_uri": "https://localhost:8080/"
        },
        "id": "ZpSKVorCVh55",
        "outputId": "8b465f88-a5c1-4f59-e79c-b1c12bd08ba0"
      },
      "execution_count": 7,
      "outputs": [
        {
          "output_type": "execute_result",
          "data": {
            "text/plain": [
              "CompletedProcess(args=['pip', 'install', 'streamlit', 'pyngrok'], returncode=0)"
            ]
          },
          "metadata": {},
          "execution_count": 7
        }
      ]
    },
    {
      "cell_type": "code",
      "source": [
        "%%writefile app.py\n",
        "import streamlit as st\n",
        "import pickle\n",
        "import pandas as pd\n",
        "import requests\n",
        "\n",
        "def fetch_poster(movie_id):\n",
        "  response=requests.get('https://api.themoviedb.org/3/movie/{}?api_key=0cf9c62ee26e0f1c96e49692d07ef3c8&language=en-US'.format(movie_id))\n",
        "  data=response.json()\n",
        "  print(data)\n",
        "  return \"https://image.tmdb.org/t/p/w500\"+data['poster_path']\n",
        "\n",
        "def recommend(movie):\n",
        "    movie_index = movies[movies['title'] == movie].index[0]\n",
        "    distances = similarity[movie_index]\n",
        "    movies_list = sorted(list(enumerate(distances)), reverse=True, key=lambda x: x[1])[1:6]\n",
        "\n",
        "    recommended_movies = []\n",
        "    recommended_movie_posters = []\n",
        "    for i in movies_list:\n",
        "        movie_id = movies.iloc[i[0]].movie_id\n",
        "        recommended_movies.append(movies.iloc[i[0]].title)\n",
        "        recommended_movie_posters.append(fetch_poster(movie_id))\n",
        "\n",
        "    return recommended_movies, recommended_movie_posters  # Return both lists\n",
        "\n",
        "# Load the movie data inside app.py\n",
        "movies_dict = pickle.load(open('movies_dict.pkl','rb'))\n",
        "movies = pd.DataFrame(movies_dict)\n",
        "similarity=pickle.load(open('similarity.pkl','rb'))\n",
        "\n",
        "st.title(\"Movie Recommender System\")\n",
        "\n",
        "st.text_input(\"What's your name?\", key=\"name\")\n",
        "selected_movie_name = st.selectbox(\n",
        "    'How would you like to be contacted?',\n",
        "    (movies['title'].values)\n",
        ")\n",
        "if st.button('Recommend'):\n",
        "  names, posters=recommend(selected_movie_name)\n",
        "  col1, col2, col3, col4, col5 = st.columns(5)\n",
        "  with col1:\n",
        "    st.text(names[0])\n",
        "    st.image(posters[0])\n",
        "  with col2:\n",
        "    st.text(names[1])\n",
        "    st.image(posters[1])\n",
        "  with col3:\n",
        "    st.text(names[2])\n",
        "    st.image(posters[2])\n",
        "  with col4:\n",
        "    st.text(names[3])\n",
        "    st.image(posters[3])\n",
        "  with col5:\n",
        "    st.text(names[4])\n",
        "    st.image(posters[4])\n"
      ],
      "metadata": {
        "colab": {
          "base_uri": "https://localhost:8080/"
        },
        "id": "s4MMSpNabdLT",
        "outputId": "f9ed2d29-9b12-4cf5-8da2-2d8d3e75fc3a"
      },
      "execution_count": 8,
      "outputs": [
        {
          "output_type": "stream",
          "name": "stdout",
          "text": [
            "Overwriting app.py\n"
          ]
        }
      ]
    },
    {
      "cell_type": "code",
      "source": [
        "#!ngrok config add-authtoken 2wRBRvEJu5YuQMx2VHce0jZNez0_7Me7NTxH8KvC2GKN8JJxo\n",
        "\n",
        "import subprocess\n",
        "\n",
        "# Use subprocess to run shell commands\n",
        "subprocess.run(['ngrok', 'config', 'add-authtoken', '2wRBRvEJu5YuQMx2VHce0jZNez0_7Me7NTxH8KvC2GKN8JJxo'])\n"
      ],
      "metadata": {
        "colab": {
          "base_uri": "https://localhost:8080/"
        },
        "id": "kcOoTLTYZCmL",
        "outputId": "1b55e279-8d47-42fb-b65b-5c67816c9039"
      },
      "execution_count": 9,
      "outputs": [
        {
          "output_type": "execute_result",
          "data": {
            "text/plain": [
              "CompletedProcess(args=['ngrok', 'config', 'add-authtoken', '2wRBRvEJu5YuQMx2VHce0jZNez0_7Me7NTxH8KvC2GKN8JJxo'], returncode=0)"
            ]
          },
          "metadata": {},
          "execution_count": 9
        }
      ]
    },
    {
      "cell_type": "code",
      "source": [
        "from pyngrok import ngrok\n",
        "import threading\n",
        "import os\n",
        "\n",
        "# Kill previous tunnels\n",
        "ngrok.kill()\n",
        "\n",
        "# Start tunnel to port 8501\n",
        "public_url = ngrok.connect(8501)\n",
        "print(f\"✅ Public URL: {public_url}\")\n",
        "\n",
        "# Start Streamlit in background\n",
        "def run():\n",
        "    os.system('streamlit run app.py')\n",
        "\n",
        "threading.Thread(target=run).start()\n"
      ],
      "metadata": {
        "colab": {
          "base_uri": "https://localhost:8080/"
        },
        "id": "_rHwNfmJZPD7",
        "outputId": "61db742a-e4a6-4502-cbe5-bad7882ee2db"
      },
      "execution_count": 10,
      "outputs": [
        {
          "output_type": "stream",
          "name": "stdout",
          "text": [
            "✅ Public URL: NgrokTunnel: \"https://660d-34-80-179-198.ngrok-free.app\" -> \"http://localhost:8501\"\n"
          ]
        }
      ]
    }
  ]
}